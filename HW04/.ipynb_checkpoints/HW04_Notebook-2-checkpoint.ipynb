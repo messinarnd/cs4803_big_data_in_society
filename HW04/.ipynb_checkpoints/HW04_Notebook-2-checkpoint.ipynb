{
 "cells": [
  {
   "cell_type": "code",
   "execution_count": 3,
   "metadata": {},
   "outputs": [],
   "source": [
    "import numpy as np\n",
    "import scipy as sp\n",
    "import pandas as pd\n",
    "import matplotlib as mpl\n",
    "import seaborn as sns\n",
    "import matplotlib.pyplot as plt\n",
    "\n",
    "#from scipy.stats.stats import pearsonr\n",
    "from scipy import stats"
   ]
  },
  {
   "cell_type": "code",
   "execution_count": 6,
   "metadata": {},
   "outputs": [
    {
     "name": "stderr",
     "output_type": "stream",
     "text": [
      "/Users/Chris/miniconda3/lib/python3.6/site-packages/IPython/core/interactiveshell.py:2785: DtypeWarning: Columns (2,3,4,5,6,7,8,9,10,11,12,13,14,15,16,17,18,19,20,21,22,23,24,25,26,27,28,29,30,31,32,33,34,35,36,37,38,39,40,41,42,43,44,45,46,47,48,49,50,51) have mixed types. Specify dtype option on import or set low_memory=False.\n",
      "  interactivity=interactivity, compiler=compiler, result=result)\n"
     ]
    }
   ],
   "source": [
    "df = pd.read_csv(\"toxicity_per_attribute.csv\")"
   ]
  },
  {
   "cell_type": "code",
   "execution_count": 7,
   "metadata": {},
   "outputs": [
    {
     "data": {
      "text/html": [
       "<div>\n",
       "<style scoped>\n",
       "    .dataframe tbody tr th:only-of-type {\n",
       "        vertical-align: middle;\n",
       "    }\n",
       "\n",
       "    .dataframe tbody tr th {\n",
       "        vertical-align: top;\n",
       "    }\n",
       "\n",
       "    .dataframe thead th {\n",
       "        text-align: right;\n",
       "    }\n",
       "</style>\n",
       "<table border=\"1\" class=\"dataframe\">\n",
       "  <thead>\n",
       "    <tr style=\"text-align: right;\">\n",
       "      <th></th>\n",
       "      <th>Wiki_ID</th>\n",
       "      <th>TOXICITY</th>\n",
       "      <th>lesbian</th>\n",
       "      <th>gay</th>\n",
       "      <th>bisexual</th>\n",
       "      <th>transgender</th>\n",
       "      <th>trans</th>\n",
       "      <th>queer</th>\n",
       "      <th>lgbt</th>\n",
       "      <th>lgbtq</th>\n",
       "      <th>...</th>\n",
       "      <th>older</th>\n",
       "      <th>young</th>\n",
       "      <th>younger</th>\n",
       "      <th>teenage</th>\n",
       "      <th>millenial</th>\n",
       "      <th>middle aged</th>\n",
       "      <th>elderly</th>\n",
       "      <th>blind</th>\n",
       "      <th>deaf</th>\n",
       "      <th>paralyzed</th>\n",
       "    </tr>\n",
       "  </thead>\n",
       "  <tbody>\n",
       "    <tr>\n",
       "      <th>0</th>\n",
       "      <td>0.0</td>\n",
       "      <td>0.096492</td>\n",
       "      <td>False</td>\n",
       "      <td>False</td>\n",
       "      <td>False</td>\n",
       "      <td>False</td>\n",
       "      <td>False</td>\n",
       "      <td>False</td>\n",
       "      <td>False</td>\n",
       "      <td>False</td>\n",
       "      <td>...</td>\n",
       "      <td>False</td>\n",
       "      <td>False</td>\n",
       "      <td>False</td>\n",
       "      <td>False</td>\n",
       "      <td>False</td>\n",
       "      <td>False</td>\n",
       "      <td>False</td>\n",
       "      <td>False</td>\n",
       "      <td>False</td>\n",
       "      <td>False</td>\n",
       "    </tr>\n",
       "    <tr>\n",
       "      <th>1</th>\n",
       "      <td>1.0</td>\n",
       "      <td>0.017991</td>\n",
       "      <td>False</td>\n",
       "      <td>False</td>\n",
       "      <td>False</td>\n",
       "      <td>False</td>\n",
       "      <td>True</td>\n",
       "      <td>False</td>\n",
       "      <td>False</td>\n",
       "      <td>False</td>\n",
       "      <td>...</td>\n",
       "      <td>False</td>\n",
       "      <td>False</td>\n",
       "      <td>False</td>\n",
       "      <td>False</td>\n",
       "      <td>False</td>\n",
       "      <td>False</td>\n",
       "      <td>False</td>\n",
       "      <td>False</td>\n",
       "      <td>False</td>\n",
       "      <td>False</td>\n",
       "    </tr>\n",
       "    <tr>\n",
       "      <th>2</th>\n",
       "      <td>2.0</td>\n",
       "      <td>0.150298</td>\n",
       "      <td>False</td>\n",
       "      <td>False</td>\n",
       "      <td>False</td>\n",
       "      <td>False</td>\n",
       "      <td>False</td>\n",
       "      <td>False</td>\n",
       "      <td>False</td>\n",
       "      <td>False</td>\n",
       "      <td>...</td>\n",
       "      <td>False</td>\n",
       "      <td>False</td>\n",
       "      <td>False</td>\n",
       "      <td>False</td>\n",
       "      <td>False</td>\n",
       "      <td>False</td>\n",
       "      <td>False</td>\n",
       "      <td>False</td>\n",
       "      <td>False</td>\n",
       "      <td>False</td>\n",
       "    </tr>\n",
       "    <tr>\n",
       "      <th>3</th>\n",
       "      <td>3.0</td>\n",
       "      <td>0.065861</td>\n",
       "      <td>False</td>\n",
       "      <td>False</td>\n",
       "      <td>False</td>\n",
       "      <td>False</td>\n",
       "      <td>False</td>\n",
       "      <td>False</td>\n",
       "      <td>False</td>\n",
       "      <td>False</td>\n",
       "      <td>...</td>\n",
       "      <td>False</td>\n",
       "      <td>False</td>\n",
       "      <td>False</td>\n",
       "      <td>False</td>\n",
       "      <td>False</td>\n",
       "      <td>False</td>\n",
       "      <td>False</td>\n",
       "      <td>False</td>\n",
       "      <td>False</td>\n",
       "      <td>False</td>\n",
       "    </tr>\n",
       "    <tr>\n",
       "      <th>4</th>\n",
       "      <td>4.0</td>\n",
       "      <td>0.667166</td>\n",
       "      <td>False</td>\n",
       "      <td>False</td>\n",
       "      <td>False</td>\n",
       "      <td>False</td>\n",
       "      <td>False</td>\n",
       "      <td>False</td>\n",
       "      <td>False</td>\n",
       "      <td>False</td>\n",
       "      <td>...</td>\n",
       "      <td>False</td>\n",
       "      <td>False</td>\n",
       "      <td>False</td>\n",
       "      <td>False</td>\n",
       "      <td>False</td>\n",
       "      <td>False</td>\n",
       "      <td>False</td>\n",
       "      <td>False</td>\n",
       "      <td>False</td>\n",
       "      <td>False</td>\n",
       "    </tr>\n",
       "  </tbody>\n",
       "</table>\n",
       "<p>5 rows × 52 columns</p>\n",
       "</div>"
      ],
      "text/plain": [
       "   Wiki_ID  TOXICITY lesbian    gay bisexual transgender  trans  queer   lgbt  \\\n",
       "0      0.0  0.096492   False  False    False       False  False  False  False   \n",
       "1      1.0  0.017991   False  False    False       False   True  False  False   \n",
       "2      2.0  0.150298   False  False    False       False  False  False  False   \n",
       "3      3.0  0.065861   False  False    False       False  False  False  False   \n",
       "4      4.0  0.667166   False  False    False       False  False  False  False   \n",
       "\n",
       "   lgbtq    ...     older  young younger teenage millenial middle aged  \\\n",
       "0  False    ...     False  False   False   False     False       False   \n",
       "1  False    ...     False  False   False   False     False       False   \n",
       "2  False    ...     False  False   False   False     False       False   \n",
       "3  False    ...     False  False   False   False     False       False   \n",
       "4  False    ...     False  False   False   False     False       False   \n",
       "\n",
       "  elderly  blind   deaf paralyzed  \n",
       "0   False  False  False     False  \n",
       "1   False  False  False     False  \n",
       "2   False  False  False     False  \n",
       "3   False  False  False     False  \n",
       "4   False  False  False     False  \n",
       "\n",
       "[5 rows x 52 columns]"
      ]
     },
     "execution_count": 7,
     "metadata": {},
     "output_type": "execute_result"
    }
   ],
   "source": [
    "df.head()"
   ]
  },
  {
   "cell_type": "code",
   "execution_count": 8,
   "metadata": {},
   "outputs": [],
   "source": [
    "# Creating a dataframe for each protected class addressed in the data\n",
    "age_df = df.filter(['old','older','young','younger','teenage','millenial','middle aged','elderly', 'Wiki_ID', 'TOXICITY'], axis=1)\n",
    "gender_df = df.filter(['transgender','trans','queer','nonbinary','male','female', 'Wiki_ID', 'TOXICITY'], axis=1)\n",
    "religion_df = df.filter(['christian','muslim','jewish','buddhist','catholic','protestant','sikh','taoist','Wiki_ID', 'TOXICITY'], axis=1)\n",
    "country_df = df.filter(['african','european','mexican','canadian','american','asian','indian','middle eastern','chinese','japanese' ,'Wiki_ID', 'TOXICITY'], axis=1)\n",
    "disability_df = df.filter(['blind','deaf','paralyzed', 'Wiki_ID', 'TOXICITY'], axis=1)\n",
    "race_df = df.filter(['black', 'african american','hispanic', 'white','latino','latina','latinx', 'Wiki_ID', 'TOXICITY'], axis=1)"
   ]
  },
  {
   "cell_type": "markdown",
   "metadata": {},
   "source": [
    "# Assign values for different class in each DF"
   ]
  },
  {
   "cell_type": "markdown",
   "metadata": {},
   "source": [
    "### AGE DF Categorization"
   ]
  },
  {
   "cell_type": "markdown",
   "metadata": {},
   "source": [
    "##### KEY: 1=younger, 2=young, 3=teenage, 4=millenial, 5=middle aged, 6=old, 7=older, 8=elderly"
   ]
  },
  {
   "cell_type": "code",
   "execution_count": 9,
   "metadata": {},
   "outputs": [
    {
     "data": {
      "text/html": [
       "<div>\n",
       "<style scoped>\n",
       "    .dataframe tbody tr th:only-of-type {\n",
       "        vertical-align: middle;\n",
       "    }\n",
       "\n",
       "    .dataframe tbody tr th {\n",
       "        vertical-align: top;\n",
       "    }\n",
       "\n",
       "    .dataframe thead th {\n",
       "        text-align: right;\n",
       "    }\n",
       "</style>\n",
       "<table border=\"1\" class=\"dataframe\">\n",
       "  <thead>\n",
       "    <tr style=\"text-align: right;\">\n",
       "      <th></th>\n",
       "      <th>old</th>\n",
       "      <th>older</th>\n",
       "      <th>young</th>\n",
       "      <th>younger</th>\n",
       "      <th>teenage</th>\n",
       "      <th>millenial</th>\n",
       "      <th>middle aged</th>\n",
       "      <th>elderly</th>\n",
       "      <th>Wiki_ID</th>\n",
       "      <th>TOXICITY</th>\n",
       "    </tr>\n",
       "  </thead>\n",
       "  <tbody>\n",
       "    <tr>\n",
       "      <th>0</th>\n",
       "      <td>False</td>\n",
       "      <td>False</td>\n",
       "      <td>False</td>\n",
       "      <td>False</td>\n",
       "      <td>False</td>\n",
       "      <td>False</td>\n",
       "      <td>False</td>\n",
       "      <td>False</td>\n",
       "      <td>0.0</td>\n",
       "      <td>0.096492</td>\n",
       "    </tr>\n",
       "    <tr>\n",
       "      <th>1</th>\n",
       "      <td>False</td>\n",
       "      <td>False</td>\n",
       "      <td>False</td>\n",
       "      <td>False</td>\n",
       "      <td>False</td>\n",
       "      <td>False</td>\n",
       "      <td>False</td>\n",
       "      <td>False</td>\n",
       "      <td>1.0</td>\n",
       "      <td>0.017991</td>\n",
       "    </tr>\n",
       "    <tr>\n",
       "      <th>2</th>\n",
       "      <td>False</td>\n",
       "      <td>False</td>\n",
       "      <td>False</td>\n",
       "      <td>False</td>\n",
       "      <td>False</td>\n",
       "      <td>False</td>\n",
       "      <td>False</td>\n",
       "      <td>False</td>\n",
       "      <td>2.0</td>\n",
       "      <td>0.150298</td>\n",
       "    </tr>\n",
       "    <tr>\n",
       "      <th>3</th>\n",
       "      <td>False</td>\n",
       "      <td>False</td>\n",
       "      <td>False</td>\n",
       "      <td>False</td>\n",
       "      <td>False</td>\n",
       "      <td>False</td>\n",
       "      <td>False</td>\n",
       "      <td>False</td>\n",
       "      <td>3.0</td>\n",
       "      <td>0.065861</td>\n",
       "    </tr>\n",
       "    <tr>\n",
       "      <th>4</th>\n",
       "      <td>False</td>\n",
       "      <td>False</td>\n",
       "      <td>False</td>\n",
       "      <td>False</td>\n",
       "      <td>False</td>\n",
       "      <td>False</td>\n",
       "      <td>False</td>\n",
       "      <td>False</td>\n",
       "      <td>4.0</td>\n",
       "      <td>0.667166</td>\n",
       "    </tr>\n",
       "  </tbody>\n",
       "</table>\n",
       "</div>"
      ],
      "text/plain": [
       "     old  older  young younger teenage millenial middle aged elderly  Wiki_ID  \\\n",
       "0  False  False  False   False   False     False       False   False      0.0   \n",
       "1  False  False  False   False   False     False       False   False      1.0   \n",
       "2  False  False  False   False   False     False       False   False      2.0   \n",
       "3  False  False  False   False   False     False       False   False      3.0   \n",
       "4  False  False  False   False   False     False       False   False      4.0   \n",
       "\n",
       "   TOXICITY  \n",
       "0  0.096492  \n",
       "1  0.017991  \n",
       "2  0.150298  \n",
       "3  0.065861  \n",
       "4  0.667166  "
      ]
     },
     "execution_count": 9,
     "metadata": {},
     "output_type": "execute_result"
    }
   ],
   "source": [
    "age_df.head()"
   ]
  },
  {
   "cell_type": "code",
   "execution_count": 10,
   "metadata": {
    "scrolled": false
   },
   "outputs": [],
   "source": [
    "# Age Correlation\n",
    "\n",
    "array  = []\n",
    "for index, row in age_df.iterrows():\n",
    "    if row['younger']:\n",
    "        df['age'] = 1\n",
    "        age_df['age'] = 1\n",
    "        array.append(1)\n",
    "    elif row['young']:\n",
    "        df['age'] = 2\n",
    "        age_df['age'] = 2\n",
    "        array.append(2)\n",
    "    elif row['teenage']:\n",
    "        df['age'] = 3\n",
    "        age_df['age'] = 3\n",
    "        array.append(3)\n",
    "    elif row['millenial']:\n",
    "        df['age'] = 4\n",
    "        age_df['age'] = 4\n",
    "        array.append(4)\n",
    "    elif row['middle aged']:\n",
    "        df['age'] = 5\n",
    "        age_df['age'] = 5\n",
    "        array.append(5)\n",
    "    elif row['old']:\n",
    "        df['age'] = 6\n",
    "        age_df['age'] = 6\n",
    "        array.append(6)\n",
    "    elif row['older']:\n",
    "        df['age'] = 7\n",
    "        age_df['age'] = 7\n",
    "        array.append(7)\n",
    "    elif row['elderly']:\n",
    "        df['age'] = 8\n",
    "        age_df['age'] = 8\n",
    "        array.append(8)\n",
    "    else:\n",
    "        df['age'] = 0\n",
    "        age_df['age'] = 0\n",
    "        array.append(0)\n"
   ]
  },
  {
   "cell_type": "code",
   "execution_count": 12,
   "metadata": {},
   "outputs": [
    {
     "name": "stdout",
     "output_type": "stream",
     "text": [
      "76565\n",
      "(0.0004815827683607928, 0.8939928060152751)\n"
     ]
    }
   ],
   "source": [
    "print(len(array))\n",
    "\n",
    "ageCorr = stats.pearsonr(array, df[\"TOXICITY\"])\n",
    "print(ageCorr)"
   ]
  },
  {
   "cell_type": "code",
   "execution_count": 13,
   "metadata": {},
   "outputs": [],
   "source": [
    "# Gender Correlation\n",
    "genderArray  = []\n",
    "for index, row in gender_df.iterrows():\n",
    "    if row['transgender']:\n",
    "#         df['age'] = 1\n",
    "#         age_df['age'] = 1\n",
    "        genderArray.append(1)\n",
    "    elif row['trans']:\n",
    "#         df['age'] = 1\n",
    "#         age_df['age'] = 1\n",
    "        genderArray.append(1)\n",
    "    elif row['queer']:\n",
    "#         df['age'] = 2\n",
    "#         age_df['age'] = 2\n",
    "        genderArray.append(2)\n",
    "    elif row['nonbinary']:\n",
    "#         df['age'] = 3\n",
    "#         age_df['age'] = 3\n",
    "        genderArray.append(3)\n",
    "    elif row['male']:\n",
    "#         df['age'] = 4\n",
    "#         age_df['age'] = 4\n",
    "        genderArray.append(4)\n",
    "    elif row['female']:\n",
    "#         df['age'] = 6\n",
    "#         age_df['age'] = 6\n",
    "        genderArray.append(5)\n",
    "    else:\n",
    "#         df['age'] = 0\n",
    "#         age_df['age'] = 0\n",
    "        genderArray.append(0)\n"
   ]
  },
  {
   "cell_type": "code",
   "execution_count": 15,
   "metadata": {},
   "outputs": [
    {
     "name": "stdout",
     "output_type": "stream",
     "text": [
      "76565\n",
      "(0.0025885021950986294, 0.4738444441728702)\n"
     ]
    }
   ],
   "source": [
    "print(len(genderArray))\n",
    "\n",
    "genderCorr = stats.pearsonr(genderArray, df[\"TOXICITY\"])\n",
    "print(genderCorr)"
   ]
  },
  {
   "cell_type": "code",
   "execution_count": 16,
   "metadata": {},
   "outputs": [],
   "source": [
    "religion_array = []\n",
    "\n",
    "for index, row in religion_df.iterrows():\n",
    "    if row['christian']:\n",
    "        religion_array.append(1)\n",
    "    elif row['muslim']:\n",
    "        religion_array.append(2)\n",
    "    elif row['jewish']:\n",
    "        religion_array.append(3)\n",
    "    elif row['buddhist']:\n",
    "        religion_array.append(4)\n",
    "    elif row['catholic']:\n",
    "        religion_array.append(5)\n",
    "    elif row['protestant']:\n",
    "        religion_array.append(6)\n",
    "    elif row['sikh']:\n",
    "        religion_array.append(7)\n",
    "    elif row['taoist']:\n",
    "        religion_array.append(8)\n",
    "    else:\n",
    "        religion_array.append(0)"
   ]
  },
  {
   "cell_type": "code",
   "execution_count": 17,
   "metadata": {},
   "outputs": [
    {
     "data": {
      "text/plain": [
       "(0.000585583912977551, 0.8712817018773122)"
      ]
     },
     "execution_count": 17,
     "metadata": {},
     "output_type": "execute_result"
    }
   ],
   "source": [
    "stats.pearsonr(df[\"TOXICITY\"], religion_array)"
   ]
  },
  {
   "cell_type": "code",
   "execution_count": 23,
   "metadata": {},
   "outputs": [],
   "source": [
    "country_array = []\n",
    "\n",
    "for index, row in country_df.iterrows():\n",
    "    if row['african']:\n",
    "        country_array.append(1)\n",
    "    elif row['european']:\n",
    "        country_array.append(2)\n",
    "    elif row['mexican']:\n",
    "        country_array.append(3)\n",
    "    elif row['canadian']:\n",
    "        country_array.append(4)\n",
    "    elif row['american']:\n",
    "        country_array.append(5)\n",
    "    elif row['asian']:\n",
    "        country_array.append(6)\n",
    "    elif row['indian']:\n",
    "        country_array.append(7)\n",
    "    elif row['middle eastern']:\n",
    "        country_array.append(8)\n",
    "    elif row['chinese']:\n",
    "        country_array.append(9)\n",
    "    elif row['japanese']:\n",
    "        country_array.append(10)\n",
    "    else:\n",
    "        country_array.append(0)"
   ]
  },
  {
   "cell_type": "code",
   "execution_count": 24,
   "metadata": {},
   "outputs": [
    {
     "data": {
      "text/plain": [
       "(-0.00044578509613503865, 0.9018311935361705)"
      ]
     },
     "execution_count": 24,
     "metadata": {},
     "output_type": "execute_result"
    }
   ],
   "source": [
    "stats.pearsonr(df[\"TOXICITY\"], country_array)"
   ]
  },
  {
   "cell_type": "code",
   "execution_count": 25,
   "metadata": {},
   "outputs": [],
   "source": [
    "disability_array = []\n",
    "\n",
    "for index, row in disability_df.iterrows():\n",
    "    if row['blind']:\n",
    "        disability_array.append(1)\n",
    "    elif row['deaf']:\n",
    "        disability_array.append(2)\n",
    "    elif row['paralyzed']:\n",
    "        disability_array.append(3)\n",
    "    else:\n",
    "        disability_array.append(0)"
   ]
  },
  {
   "cell_type": "code",
   "execution_count": 26,
   "metadata": {},
   "outputs": [
    {
     "data": {
      "text/plain": [
       "(0.006234738068585817, 0.08449785022916755)"
      ]
     },
     "execution_count": 26,
     "metadata": {},
     "output_type": "execute_result"
    }
   ],
   "source": [
    "stats.pearsonr(df[\"TOXICITY\"], disability_array)"
   ]
  },
  {
   "cell_type": "code",
   "execution_count": 27,
   "metadata": {},
   "outputs": [],
   "source": [
    "race_array = []\n",
    "\n",
    "for index, row in race_df.iterrows():\n",
    "    if row['black']:\n",
    "        race_array.append(1)\n",
    "    elif row['african american']:\n",
    "        race_array.append(1)\n",
    "    elif row['hispanic']:\n",
    "        race_array.append(2)\n",
    "    elif row['white']:\n",
    "        race_array.append(3)\n",
    "    elif row['latino']:\n",
    "        race_array.append(4)\n",
    "    elif row['latina']:\n",
    "        race_array.append(4)\n",
    "    elif row['latinx']:\n",
    "        race_array.append(4)\n",
    "    else:\n",
    "        race_array.append(0)"
   ]
  },
  {
   "cell_type": "code",
   "execution_count": 28,
   "metadata": {},
   "outputs": [
    {
     "data": {
      "text/plain": [
       "(0.0021587300762926187, 0.55029389641052)"
      ]
     },
     "execution_count": 28,
     "metadata": {},
     "output_type": "execute_result"
    }
   ],
   "source": [
    "stats.pearsonr(df[\"TOXICITY\"], race_array)"
   ]
  },
  {
   "cell_type": "code",
   "execution_count": null,
   "metadata": {},
   "outputs": [],
   "source": []
  }
 ],
 "metadata": {
  "kernelspec": {
   "display_name": "Python 3",
   "language": "python",
   "name": "python3"
  },
  "language_info": {
   "codemirror_mode": {
    "name": "ipython",
    "version": 3
   },
   "file_extension": ".py",
   "mimetype": "text/x-python",
   "name": "python",
   "nbconvert_exporter": "python",
   "pygments_lexer": "ipython3",
   "version": "3.6.8"
  }
 },
 "nbformat": 4,
 "nbformat_minor": 2
}
