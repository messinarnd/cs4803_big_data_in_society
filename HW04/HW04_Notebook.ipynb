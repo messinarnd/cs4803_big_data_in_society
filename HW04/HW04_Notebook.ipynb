{
 "cells": [
  {
   "cell_type": "code",
   "execution_count": 1,
   "metadata": {},
   "outputs": [],
   "source": [
    "import numpy as np\n",
    "import scipy as sp\n",
    "import pandas as pd\n",
    "import matplotlib as mpl\n",
    "import seaborn as sns\n",
    "import matplotlib.pyplot as plt"
   ]
  },
  {
   "cell_type": "code",
   "execution_count": 2,
   "metadata": {},
   "outputs": [
    {
     "name": "stderr",
     "output_type": "stream",
     "text": [
      "/Users/Chris/miniconda3/lib/python3.6/site-packages/IPython/core/interactiveshell.py:2785: DtypeWarning: Columns (2,3,4,5,6,7,8,9,10,11,12,13,14,15,16,17,18,19,20,21,22,23,24,25,26,27,28,29,30,31,32,33,34,35,36,37,38,39,40,41,42,43,44,45,46,47,48,49,50,51) have mixed types. Specify dtype option on import or set low_memory=False.\n",
      "  interactivity=interactivity, compiler=compiler, result=result)\n"
     ]
    }
   ],
   "source": [
    "df = pd.read_csv(\"toxicity_per_attribute.csv\")"
   ]
  },
  {
   "cell_type": "code",
   "execution_count": 3,
   "metadata": {},
   "outputs": [
    {
     "data": {
      "text/html": [
       "<div>\n",
       "<style scoped>\n",
       "    .dataframe tbody tr th:only-of-type {\n",
       "        vertical-align: middle;\n",
       "    }\n",
       "\n",
       "    .dataframe tbody tr th {\n",
       "        vertical-align: top;\n",
       "    }\n",
       "\n",
       "    .dataframe thead th {\n",
       "        text-align: right;\n",
       "    }\n",
       "</style>\n",
       "<table border=\"1\" class=\"dataframe\">\n",
       "  <thead>\n",
       "    <tr style=\"text-align: right;\">\n",
       "      <th></th>\n",
       "      <th>Wiki_ID</th>\n",
       "      <th>TOXICITY</th>\n",
       "      <th>lesbian</th>\n",
       "      <th>gay</th>\n",
       "      <th>bisexual</th>\n",
       "      <th>transgender</th>\n",
       "      <th>trans</th>\n",
       "      <th>queer</th>\n",
       "      <th>lgbt</th>\n",
       "      <th>lgbtq</th>\n",
       "      <th>...</th>\n",
       "      <th>older</th>\n",
       "      <th>young</th>\n",
       "      <th>younger</th>\n",
       "      <th>teenage</th>\n",
       "      <th>millenial</th>\n",
       "      <th>middle aged</th>\n",
       "      <th>elderly</th>\n",
       "      <th>blind</th>\n",
       "      <th>deaf</th>\n",
       "      <th>paralyzed</th>\n",
       "    </tr>\n",
       "  </thead>\n",
       "  <tbody>\n",
       "    <tr>\n",
       "      <th>0</th>\n",
       "      <td>0.0</td>\n",
       "      <td>0.096492</td>\n",
       "      <td>False</td>\n",
       "      <td>False</td>\n",
       "      <td>False</td>\n",
       "      <td>False</td>\n",
       "      <td>False</td>\n",
       "      <td>False</td>\n",
       "      <td>False</td>\n",
       "      <td>False</td>\n",
       "      <td>...</td>\n",
       "      <td>False</td>\n",
       "      <td>False</td>\n",
       "      <td>False</td>\n",
       "      <td>False</td>\n",
       "      <td>False</td>\n",
       "      <td>False</td>\n",
       "      <td>False</td>\n",
       "      <td>False</td>\n",
       "      <td>False</td>\n",
       "      <td>False</td>\n",
       "    </tr>\n",
       "    <tr>\n",
       "      <th>1</th>\n",
       "      <td>1.0</td>\n",
       "      <td>0.017991</td>\n",
       "      <td>False</td>\n",
       "      <td>False</td>\n",
       "      <td>False</td>\n",
       "      <td>False</td>\n",
       "      <td>True</td>\n",
       "      <td>False</td>\n",
       "      <td>False</td>\n",
       "      <td>False</td>\n",
       "      <td>...</td>\n",
       "      <td>False</td>\n",
       "      <td>False</td>\n",
       "      <td>False</td>\n",
       "      <td>False</td>\n",
       "      <td>False</td>\n",
       "      <td>False</td>\n",
       "      <td>False</td>\n",
       "      <td>False</td>\n",
       "      <td>False</td>\n",
       "      <td>False</td>\n",
       "    </tr>\n",
       "    <tr>\n",
       "      <th>2</th>\n",
       "      <td>2.0</td>\n",
       "      <td>0.150298</td>\n",
       "      <td>False</td>\n",
       "      <td>False</td>\n",
       "      <td>False</td>\n",
       "      <td>False</td>\n",
       "      <td>False</td>\n",
       "      <td>False</td>\n",
       "      <td>False</td>\n",
       "      <td>False</td>\n",
       "      <td>...</td>\n",
       "      <td>False</td>\n",
       "      <td>False</td>\n",
       "      <td>False</td>\n",
       "      <td>False</td>\n",
       "      <td>False</td>\n",
       "      <td>False</td>\n",
       "      <td>False</td>\n",
       "      <td>False</td>\n",
       "      <td>False</td>\n",
       "      <td>False</td>\n",
       "    </tr>\n",
       "    <tr>\n",
       "      <th>3</th>\n",
       "      <td>3.0</td>\n",
       "      <td>0.065861</td>\n",
       "      <td>False</td>\n",
       "      <td>False</td>\n",
       "      <td>False</td>\n",
       "      <td>False</td>\n",
       "      <td>False</td>\n",
       "      <td>False</td>\n",
       "      <td>False</td>\n",
       "      <td>False</td>\n",
       "      <td>...</td>\n",
       "      <td>False</td>\n",
       "      <td>False</td>\n",
       "      <td>False</td>\n",
       "      <td>False</td>\n",
       "      <td>False</td>\n",
       "      <td>False</td>\n",
       "      <td>False</td>\n",
       "      <td>False</td>\n",
       "      <td>False</td>\n",
       "      <td>False</td>\n",
       "    </tr>\n",
       "    <tr>\n",
       "      <th>4</th>\n",
       "      <td>4.0</td>\n",
       "      <td>0.667166</td>\n",
       "      <td>False</td>\n",
       "      <td>False</td>\n",
       "      <td>False</td>\n",
       "      <td>False</td>\n",
       "      <td>False</td>\n",
       "      <td>False</td>\n",
       "      <td>False</td>\n",
       "      <td>False</td>\n",
       "      <td>...</td>\n",
       "      <td>False</td>\n",
       "      <td>False</td>\n",
       "      <td>False</td>\n",
       "      <td>False</td>\n",
       "      <td>False</td>\n",
       "      <td>False</td>\n",
       "      <td>False</td>\n",
       "      <td>False</td>\n",
       "      <td>False</td>\n",
       "      <td>False</td>\n",
       "    </tr>\n",
       "  </tbody>\n",
       "</table>\n",
       "<p>5 rows × 52 columns</p>\n",
       "</div>"
      ],
      "text/plain": [
       "   Wiki_ID  TOXICITY lesbian    gay bisexual transgender  trans  queer   lgbt  \\\n",
       "0      0.0  0.096492   False  False    False       False  False  False  False   \n",
       "1      1.0  0.017991   False  False    False       False   True  False  False   \n",
       "2      2.0  0.150298   False  False    False       False  False  False  False   \n",
       "3      3.0  0.065861   False  False    False       False  False  False  False   \n",
       "4      4.0  0.667166   False  False    False       False  False  False  False   \n",
       "\n",
       "   lgbtq    ...     older  young younger teenage millenial middle aged  \\\n",
       "0  False    ...     False  False   False   False     False       False   \n",
       "1  False    ...     False  False   False   False     False       False   \n",
       "2  False    ...     False  False   False   False     False       False   \n",
       "3  False    ...     False  False   False   False     False       False   \n",
       "4  False    ...     False  False   False   False     False       False   \n",
       "\n",
       "  elderly  blind   deaf paralyzed  \n",
       "0   False  False  False     False  \n",
       "1   False  False  False     False  \n",
       "2   False  False  False     False  \n",
       "3   False  False  False     False  \n",
       "4   False  False  False     False  \n",
       "\n",
       "[5 rows x 52 columns]"
      ]
     },
     "execution_count": 3,
     "metadata": {},
     "output_type": "execute_result"
    }
   ],
   "source": [
    "df.head()"
   ]
  },
  {
   "cell_type": "code",
   "execution_count": 4,
   "metadata": {},
   "outputs": [],
   "source": [
    "# Creating a dataframe for each protected class addressed in the data\n",
    "age_df = df.filter(['old','older','young','younger','teenage','millenial','middle aged','elderly', 'Wiki_ID', 'TOXICITY'], axis=1)\n",
    "gender_df = df.filter(['transgender','trans','queer','nonbinary','male','female', 'Wiki_ID', 'TOXICITY'], axis=1)\n",
    "religion_df = df.filter(['christian','muslim','jewish','buddhist','catholic','protestant','sikh','taoist','Wiki_ID', 'TOXICITY'], axis=1)\n",
    "country_df = df.filter(['african','european','mexican','canadian','american','asian','indian','middle eastern','chinese','japanese' ,'Wiki_ID', 'TOXICITY'], axis=1)\n",
    "disability_df = df.filter(['blind','deaf','paralyzed', 'Wiki_ID', 'TOXICITY'], axis=1)\n",
    "race_df = df.filter(['african', 'african american', 'black', 'white', 'european', 'Wiki_ID', 'TOXICITY'], axis=1)"
   ]
  },
  {
   "cell_type": "markdown",
   "metadata": {},
   "source": [
    "# Assign values for different class in each DF"
   ]
  },
  {
   "cell_type": "markdown",
   "metadata": {},
   "source": [
    "### AGE DF Categorization"
   ]
  },
  {
   "cell_type": "markdown",
   "metadata": {},
   "source": [
    "##### KEY: 1=younger, 2=young, 3=teenage, 4=millenial, 5=middle aged, 6=old, 7=older, 8=elderly"
   ]
  },
  {
   "cell_type": "code",
   "execution_count": 5,
   "metadata": {},
   "outputs": [],
   "source": [
    "age_array = []\n",
    "\n",
    "for index, row in age_df.iterrows():\n",
    "    if row['younger']:\n",
    "        age_array.append(1)\n",
    "    elif row['young']:\n",
    "        age_array.append(2)\n",
    "    elif row['teenage']:\n",
    "        age_array.append(3)\n",
    "    elif row['millenial']:\n",
    "        age_array.append(4)\n",
    "    elif row['middle aged']:\n",
    "        age_array.append(5)\n",
    "    elif row['old']:\n",
    "        age_array.append(6)\n",
    "    elif row['older']:\n",
    "        age_array.append(7)\n",
    "    elif row['elderly']:\n",
    "        age_array.append(8)\n",
    "    else:\n",
    "        age_array.append(0)"
   ]
  },
  {
   "cell_type": "code",
   "execution_count": null,
   "metadata": {},
   "outputs": [],
   "source": [
    "stats.pearsonr(df[\"TOXICITY\"], age_array)"
   ]
  },
  {
   "cell_type": "markdown",
   "metadata": {},
   "source": [
    "### Gender Categorization"
   ]
  },
  {
   "cell_type": "markdown",
   "metadata": {},
   "source": [
    "##### KEY: 1=transgender, 2=trans, 3=queer, 4=nonbinary, 5=male, 6=female"
   ]
  },
  {
   "cell_type": "code",
   "execution_count": null,
   "metadata": {},
   "outputs": [],
   "source": [
    "gender_array = []\n",
    "\n",
    "for index, row in gender_df.iterrows():\n",
    "    if row['transgender']:\n",
    "        gender_array.append(1)\n",
    "    elif row['trans']:\n",
    "        gender_array.append(2)\n",
    "    elif row['queer']:\n",
    "        gender_array.append(3)\n",
    "    elif row['nonbinary']:\n",
    "        gender_array.append(4)\n",
    "    elif row['male']:\n",
    "        gender_array.append(5)\n",
    "    elif row['female']:\n",
    "        gender_array.append(6)\n",
    "    else:\n",
    "        gender_array.append(0)"
   ]
  },
  {
   "cell_type": "code",
   "execution_count": null,
   "metadata": {},
   "outputs": [],
   "source": [
    "stats.pearsonr(df[\"TOXICITY\"], gender_array)"
   ]
  },
  {
   "cell_type": "markdown",
   "metadata": {},
   "source": [
    "### Religion Categorization"
   ]
  },
  {
   "cell_type": "markdown",
   "metadata": {},
   "source": [
    "##### KEY: 1=christian, 2=muslim, 3=jewish, 4=buddhist, 5=catholic, 6=protestant, 7=sikh 8=taoist "
   ]
  },
  {
   "cell_type": "code",
   "execution_count": null,
   "metadata": {},
   "outputs": [],
   "source": [
    "religion_array = []\n",
    "\n",
    "for index, row in religion_df.iterrows():\n",
    "    if row['christian']:\n",
    "        religion_array.append(1)\n",
    "    elif row['muslim']:\n",
    "        religion_array.append(2)\n",
    "    elif row['jewish']:\n",
    "        religion_array.append(3)\n",
    "    elif row['buddhist']:\n",
    "        religion_array.append(4)\n",
    "    elif row['catholic']:\n",
    "        religion_array.append(5)\n",
    "    elif row['protestant']:\n",
    "        religion_array.append(6)\n",
    "    elif row['sikh']:\n",
    "        religion_array.append(7)\n",
    "    elif row['taoist']:\n",
    "        religion_array.append(8)\n",
    "    else:\n",
    "        religion_array.append(0)"
   ]
  },
  {
   "cell_type": "code",
   "execution_count": null,
   "metadata": {},
   "outputs": [],
   "source": [
    "stats.pearsonr(df[\"TOXICITY\"], religion_array)"
   ]
  },
  {
   "cell_type": "markdown",
   "metadata": {},
   "source": [
    "### Country Categorization"
   ]
  },
  {
   "cell_type": "markdown",
   "metadata": {},
   "source": [
    "##### KEY: 1=african, 2=european, 3=mexican, 4=canadian, 5=american, 6=asian, 7=indian, 8=middle eastern, 9=chinese, 10=japanese"
   ]
  },
  {
   "cell_type": "code",
   "execution_count": null,
   "metadata": {},
   "outputs": [],
   "source": [
    "country_array = []\n",
    "\n",
    "for index, row in country_df.iterrows():\n",
    "    if row['african']:\n",
    "        country_array.append(1)\n",
    "    elif row['european']:\n",
    "        country_array.append(2)\n",
    "    elif row['mexican']:\n",
    "        country_array.append(3)\n",
    "    elif row['canadian']:\n",
    "        country_array.append(4)\n",
    "    elif row['american']:\n",
    "        country_array.append(5)\n",
    "    elif row['asian']:\n",
    "        country_array.append(6)\n",
    "    elif row['indian']:\n",
    "        country_array.append(7)\n",
    "    elif row['middle eastern']:\n",
    "        country_array.append(8)\n",
    "    elif row['chinese']:\n",
    "        country_array.append(9)\n",
    "    elif row['japanese']:\n",
    "        country_array.append(10)\n",
    "    else:\n",
    "        country_array.append(0)"
   ]
  },
  {
   "cell_type": "code",
   "execution_count": null,
   "metadata": {},
   "outputs": [],
   "source": [
    "stats.pearsonr(df[\"TOXICITY\"], country_array)"
   ]
  },
  {
   "cell_type": "markdown",
   "metadata": {},
   "source": [
    "### Disabilitly Categorization"
   ]
  },
  {
   "cell_type": "markdown",
   "metadata": {},
   "source": [
    "##### KEY: 1=blind, 2=deaf, 3=paralyzed"
   ]
  },
  {
   "cell_type": "code",
   "execution_count": null,
   "metadata": {},
   "outputs": [],
   "source": [
    "disability_array = []\n",
    "\n",
    "for index, row in disability_df.iterrows():\n",
    "    if row['blind']:\n",
    "        disability_array.append(1)\n",
    "    elif row['deaf']:\n",
    "        disability_array.append(2)\n",
    "    elif row['paralyzed']:\n",
    "        disability_array.append(3)\n",
    "    else:\n",
    "        country_array.append(0)"
   ]
  },
  {
   "cell_type": "code",
   "execution_count": null,
   "metadata": {},
   "outputs": [],
   "source": [
    "stats.pearsonr(df[\"TOXICITY\"], disability_array)"
   ]
  },
  {
   "cell_type": "markdown",
   "metadata": {},
   "source": [
    "### Race Categorization"
   ]
  },
  {
   "cell_type": "markdown",
   "metadata": {},
   "source": [
    "##### KEY: 1=Race"
   ]
  },
  {
   "cell_type": "code",
   "execution_count": null,
   "metadata": {},
   "outputs": [],
   "source": [
    "race_array = []\n",
    "for index, row in disability_df.iterrows():\n",
    "    if row['race']:\n",
    "        disability_array.append(1)\n",
    "    else:\n",
    "        country_array.append(0)"
   ]
  },
  {
   "cell_type": "code",
   "execution_count": null,
   "metadata": {},
   "outputs": [],
   "source": [
    "stats.pearsonr(df[\"TOXICITY\"], race_array)"
   ]
  }
 ],
 "metadata": {
  "kernelspec": {
   "display_name": "Python 3",
   "language": "python",
   "name": "python3"
  },
  "language_info": {
   "codemirror_mode": {
    "name": "ipython",
    "version": 3
   },
   "file_extension": ".py",
   "mimetype": "text/x-python",
   "name": "python",
   "nbconvert_exporter": "python",
   "pygments_lexer": "ipython3",
   "version": "3.6.5"
  }
 },
 "nbformat": 4,
 "nbformat_minor": 2
}
