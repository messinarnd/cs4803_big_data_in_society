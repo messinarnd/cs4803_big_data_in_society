{
 "cells": [
  {
   "cell_type": "markdown",
   "metadata": {},
   "source": [
    "# Setup"
   ]
  },
  {
   "cell_type": "code",
   "execution_count": 5,
   "metadata": {},
   "outputs": [],
   "source": [
    "from gensim.models import Word2Vec\n",
    "import gensim.models\n",
    "import nltk\n",
    "import numpy as np\n",
    "import pandas as pd"
   ]
  },
  {
   "cell_type": "code",
   "execution_count": 6,
   "metadata": {},
   "outputs": [],
   "source": [
    "newmodel = gensim.models.KeyedVectors.load_word2vec_format(\"/Users/Chris/Documents/4803/HW05/reducedvector.bin\", binary=True)"
   ]
  },
  {
   "cell_type": "code",
   "execution_count": 7,
   "metadata": {},
   "outputs": [
    {
     "data": {
      "text/plain": [
       "[('woman', 0.5876938104629517),\n",
       " ('girl', 0.5229198932647705),\n",
       " ('young', 0.4971591532230377),\n",
       " ('immortal', 0.4890766739845276),\n",
       " ('spider', 0.47930294275283813)]"
      ]
     },
     "execution_count": 7,
     "metadata": {},
     "output_type": "execute_result"
    }
   ],
   "source": [
    "# Find the five nearest neighbors to the word man\n",
    "newmodel.most_similar('man', topn=5)"
   ]
  },
  {
   "cell_type": "code",
   "execution_count": 8,
   "metadata": {},
   "outputs": [
    {
     "data": {
      "text/plain": [
       "0.5876938243157079"
      ]
     },
     "execution_count": 8,
     "metadata": {},
     "output_type": "execute_result"
    }
   ],
   "source": [
    "# Compute a measure of similarity between woman and man\n",
    "newmodel.similarity('woman', 'man')"
   ]
  },
  {
   "cell_type": "code",
   "execution_count": 9,
   "metadata": {},
   "outputs": [
    {
     "data": {
      "text/plain": [
       "[('queen', 0.5532454252243042)]"
      ]
     },
     "execution_count": 9,
     "metadata": {},
     "output_type": "execute_result"
    }
   ],
   "source": [
    "# To complete analogies like woman is to king as man is to ??, we can use:\n",
    "newmodel.most_similar(positive=['woman', 'king'], negative=['man'], topn=1)"
   ]
  },
  {
   "cell_type": "markdown",
   "metadata": {},
   "source": [
    "# Question 1"
   ]
  },
  {
   "cell_type": "markdown",
   "metadata": {},
   "source": [
    "Take as your target word woman. Use the pre-trained word2vec model to rank the following 10\n",
    "words from the most similar to the target word to the least similar to the target word. For each word,\n",
    "provide the similarity score.  \n",
    "boy  \n",
    "girl  \n",
    "child  \n",
    "2  \n",
    "queen  \n",
    "man  \n",
    "marriage  \n",
    "birth  \n",
    "elephant  \n",
    "introspection  \n",
    "pregnant  \n",
    "children"
   ]
  },
  {
   "cell_type": "code",
   "execution_count": 10,
   "metadata": {},
   "outputs": [],
   "source": [
    "boy = newmodel.similarity('woman', 'boy')\n",
    "girl = newmodel.similarity('woman', 'girl')\n",
    "child = newmodel.similarity('woman', 'child')\n",
    "queen = newmodel.similarity('woman', 'queen')\n",
    "man = newmodel.similarity('woman', 'man')\n",
    "marriage = newmodel.similarity('woman', 'marriage')\n",
    "birth = newmodel.similarity('woman', 'birth')\n",
    "elephant = newmodel.similarity('woman', 'elephant')\n",
    "introspection = newmodel.similarity('woman', 'introspection')\n",
    "pregnant = newmodel.similarity('woman', 'pregnant')\n",
    "children = newmodel.similarity('woman', 'children')"
   ]
  },
  {
   "cell_type": "code",
   "execution_count": 11,
   "metadata": {},
   "outputs": [],
   "source": [
    "data = {'Similarity'     : [boy, girl, child, queen, man, marriage, birth, elephant,introspection, pregnant, children],\n",
    "        'Word'  : [\"Boy\", \"girl\", \"child\", \"queen\", \"man\", \"marriage\", \"birth\", \"elephant\",\"introspection\", \"pregnant\", \"children\"]}\n",
    "# data = np.array([boy, girl, child, queen, man, marriage, birth, elephant,introspection, pregnant, children])"
   ]
  },
  {
   "cell_type": "code",
   "execution_count": 12,
   "metadata": {},
   "outputs": [
    {
     "data": {
      "text/html": [
       "<div>\n",
       "<style scoped>\n",
       "    .dataframe tbody tr th:only-of-type {\n",
       "        vertical-align: middle;\n",
       "    }\n",
       "\n",
       "    .dataframe tbody tr th {\n",
       "        vertical-align: top;\n",
       "    }\n",
       "\n",
       "    .dataframe thead th {\n",
       "        text-align: right;\n",
       "    }\n",
       "</style>\n",
       "<table border=\"1\" class=\"dataframe\">\n",
       "  <thead>\n",
       "    <tr style=\"text-align: right;\">\n",
       "      <th></th>\n",
       "      <th>Similarity</th>\n",
       "    </tr>\n",
       "    <tr>\n",
       "      <th>Word</th>\n",
       "      <th></th>\n",
       "    </tr>\n",
       "  </thead>\n",
       "  <tbody>\n",
       "    <tr>\n",
       "      <th>Boy</th>\n",
       "      <td>0.312171</td>\n",
       "    </tr>\n",
       "    <tr>\n",
       "      <th>girl</th>\n",
       "      <td>0.568037</td>\n",
       "    </tr>\n",
       "    <tr>\n",
       "      <th>child</th>\n",
       "      <td>0.589809</td>\n",
       "    </tr>\n",
       "    <tr>\n",
       "      <th>queen</th>\n",
       "      <td>0.228572</td>\n",
       "    </tr>\n",
       "    <tr>\n",
       "      <th>man</th>\n",
       "      <td>0.587694</td>\n",
       "    </tr>\n",
       "  </tbody>\n",
       "</table>\n",
       "</div>"
      ],
      "text/plain": [
       "       Similarity\n",
       "Word             \n",
       "Boy      0.312171\n",
       "girl     0.568037\n",
       "child    0.589809\n",
       "queen    0.228572\n",
       "man      0.587694"
      ]
     },
     "execution_count": 12,
     "metadata": {},
     "output_type": "execute_result"
    }
   ],
   "source": [
    "df = pd.DataFrame(data)\n",
    "df.index = df['Word']\n",
    "del df['Word']\n",
    "df.head()"
   ]
  },
  {
   "cell_type": "markdown",
   "metadata": {},
   "source": [
    "#### Words ranked by similarity with score"
   ]
  },
  {
   "cell_type": "code",
   "execution_count": 13,
   "metadata": {},
   "outputs": [
    {
     "data": {
      "text/html": [
       "<div>\n",
       "<style scoped>\n",
       "    .dataframe tbody tr th:only-of-type {\n",
       "        vertical-align: middle;\n",
       "    }\n",
       "\n",
       "    .dataframe tbody tr th {\n",
       "        vertical-align: top;\n",
       "    }\n",
       "\n",
       "    .dataframe thead th {\n",
       "        text-align: right;\n",
       "    }\n",
       "</style>\n",
       "<table border=\"1\" class=\"dataframe\">\n",
       "  <thead>\n",
       "    <tr style=\"text-align: right;\">\n",
       "      <th></th>\n",
       "      <th>Similarity</th>\n",
       "    </tr>\n",
       "    <tr>\n",
       "      <th>Word</th>\n",
       "      <th></th>\n",
       "    </tr>\n",
       "  </thead>\n",
       "  <tbody>\n",
       "    <tr>\n",
       "      <th>child</th>\n",
       "      <td>0.589809</td>\n",
       "    </tr>\n",
       "    <tr>\n",
       "      <th>man</th>\n",
       "      <td>0.587694</td>\n",
       "    </tr>\n",
       "    <tr>\n",
       "      <th>children</th>\n",
       "      <td>0.575711</td>\n",
       "    </tr>\n",
       "    <tr>\n",
       "      <th>girl</th>\n",
       "      <td>0.568037</td>\n",
       "    </tr>\n",
       "    <tr>\n",
       "      <th>pregnant</th>\n",
       "      <td>0.498789</td>\n",
       "    </tr>\n",
       "    <tr>\n",
       "      <th>marriage</th>\n",
       "      <td>0.429239</td>\n",
       "    </tr>\n",
       "    <tr>\n",
       "      <th>birth</th>\n",
       "      <td>0.420309</td>\n",
       "    </tr>\n",
       "    <tr>\n",
       "      <th>Boy</th>\n",
       "      <td>0.312171</td>\n",
       "    </tr>\n",
       "    <tr>\n",
       "      <th>queen</th>\n",
       "      <td>0.228572</td>\n",
       "    </tr>\n",
       "    <tr>\n",
       "      <th>elephant</th>\n",
       "      <td>0.221813</td>\n",
       "    </tr>\n",
       "    <tr>\n",
       "      <th>introspection</th>\n",
       "      <td>-0.069114</td>\n",
       "    </tr>\n",
       "  </tbody>\n",
       "</table>\n",
       "</div>"
      ],
      "text/plain": [
       "               Similarity\n",
       "Word                     \n",
       "child            0.589809\n",
       "man              0.587694\n",
       "children         0.575711\n",
       "girl             0.568037\n",
       "pregnant         0.498789\n",
       "marriage         0.429239\n",
       "birth            0.420309\n",
       "Boy              0.312171\n",
       "queen            0.228572\n",
       "elephant         0.221813\n",
       "introspection   -0.069114"
      ]
     },
     "execution_count": 13,
     "metadata": {},
     "output_type": "execute_result"
    }
   ],
   "source": [
    "df.sort_values(by=['Similarity'], ascending=False)"
   ]
  },
  {
   "cell_type": "markdown",
   "metadata": {},
   "source": [
    "# Question 2"
   ]
  },
  {
   "cell_type": "markdown",
   "metadata": {},
   "source": [
    "According to the word embeddings, which word is the most different from all the others? Which two\n",
    "words does word embeddings identify as the most similar to each other?  \n",
    "a. ['tissue', 'papyrus', 'manila', 'newsprint', 'parchment', 'gazette']  \n",
    "b. ['engineer', 'nurse', 'doctor', 'mother', 'father', 'scientist']  \n",
    "c. ['criminal', 'black', 'hispanic', 'man', 'woman']  "
   ]
  },
  {
   "cell_type": "code",
   "execution_count": 14,
   "metadata": {},
   "outputs": [],
   "source": [
    "first_arr = ['tissue', 'papyrus', 'manila', 'newsprint', 'parchment', 'gazette']\n",
    "second_arr = ['engineer', 'nurse', 'doctor', 'mother', 'father', 'scientist']\n",
    "third_arr = ['criminal', 'black', 'hispanic', 'man', 'woman']"
   ]
  },
  {
   "cell_type": "code",
   "execution_count": 15,
   "metadata": {},
   "outputs": [],
   "source": [
    "# Finding the word that doesn't match\n",
    "def odd_word(wordList):\n",
    "    odd_one_out = newmodel.doesnt_match(wordList)\n",
    "    return odd_one_out\n",
    "        \n",
    "        \n",
    "# Finding the most similar pair of words\n",
    "import itertools\n",
    "def createPairs(wordList2):\n",
    "    valuesList = []\n",
    "    pairs = list(itertools.combinations(wordList2, 2))\n",
    "    for each in pairs:\n",
    "        similarityValue =newmodel.similarity(each[0], each[1])\n",
    "        valuesList.append((similarityValue,each))\n",
    "    return sorted(valuesList, key=getKey, reverse = True)\n",
    "    \n",
    "    \n",
    "def getKey(item):\n",
    "    return item[0]\n",
    "\n",
    "\n",
    "from operator import itemgetter\n",
    "def getMax(array):\n",
    "    max_sim = -10\n",
    "    for item in array:\n",
    "        similarity = item[0]\n",
    "        pair = item[1]\n",
    "        if similarity > max_sim:\n",
    "            max_sim = similarity\n",
    "            best_pair = pair\n",
    "    \n",
    "    return (max_sim, best_pair)"
   ]
  },
  {
   "cell_type": "markdown",
   "metadata": {},
   "source": [
    "#### Most different from others"
   ]
  },
  {
   "cell_type": "code",
   "execution_count": 16,
   "metadata": {},
   "outputs": [
    {
     "name": "stdout",
     "output_type": "stream",
     "text": [
      "first array most different =  tissue\n",
      "second array most different =  doctor\n",
      "third array most different =  criminal\n"
     ]
    }
   ],
   "source": [
    "print(\"first array most different = \", odd_word(first_arr))\n",
    "print(\"second array most different = \", odd_word(second_arr))\n",
    "print(\"third array most different = \", odd_word(third_arr))"
   ]
  },
  {
   "cell_type": "markdown",
   "metadata": {},
   "source": [
    "#### Most similar pair"
   ]
  },
  {
   "cell_type": "code",
   "execution_count": 17,
   "metadata": {},
   "outputs": [
    {
     "name": "stdout",
     "output_type": "stream",
     "text": [
      "first array most similar pair:  0.3797263016714463  =  ('newsprint', 'parchment')\n",
      "second array most similar pair:  0.8327639944458998  =  ('mother', 'father')\n",
      "third array most similar pair:  0.5876938243157079  =  ('man', 'woman')\n"
     ]
    }
   ],
   "source": [
    "create_first = createPairs(first_arr)\n",
    "create_second = createPairs(second_arr)\n",
    "create_third = createPairs(third_arr)\n",
    "\n",
    "first_pair = getMax(create_first)\n",
    "second_pair = getMax(create_second)\n",
    "third_pair = getMax(create_third)\n",
    "\n",
    "print(\"first array most similar pair: \", first_pair[0], \" = \", first_pair[1])\n",
    "print(\"second array most similar pair: \", second_pair[0], \" = \", second_pair[1])\n",
    "print(\"third array most similar pair: \", third_pair[0], \" = \", third_pair[1])"
   ]
  },
  {
   "cell_type": "markdown",
   "metadata": {},
   "source": [
    "# Question 3"
   ]
  },
  {
   "cell_type": "markdown",
   "metadata": {},
   "source": [
    "Sentences:  \n",
    "man is to woman as king is to ___?  \n",
    "water is to ice as liquid is to ___?  \n",
    "bad is to good as sad is to ___?  \n",
    "nurse is to hospital as teacher is to ___?  \n",
    "usa is to pizza as japan is to ___?  \n",
    "human is to house as dog is to ___?  \n",
    "grass is to green as sky is to ___?"
   ]
  },
  {
   "cell_type": "markdown",
   "metadata": {},
   "source": [
    "a. Complete the above sentences with your own word analogies. Use the Word2Vec model to find the\n",
    "similarity measure between your pair of words. Provide this information.  \n",
    "  \n",
    "Example:  \n",
    "man is to woman as king is to _queen__?  \n",
    "newmodel.similarity('king', 'queen') -> 0.5685571"
   ]
  },
  {
   "cell_type": "markdown",
   "metadata": {},
   "source": [
    "b. Use the Word2Vec model to find the word analogy and corresponding similarity score. Provide\n",
    "this information.  \n",
    "  \n",
    "Example:  \n",
    "man is to woman as king is to ___?  \n",
    "newmodel.most_similar(positive=['man', 'woman'], negative=['king'], topn=1) -> girl,\n",
    "0.50538"
   ]
  },
  {
   "cell_type": "markdown",
   "metadata": {},
   "source": [
    "c. Lastly, compute and print the correlation between the vector of similarity scores from your\n",
    "analogies versus the Word2Vec analogy-generated similarity scores. What is the strength of the\n",
    "correlation?  \n",
    "o .00-.19 “very weak” correlation  \n",
    "o .20-.39 “weak” correlation  \n",
    "o .40-.59 “moderate” correlation  \n",
    "o .60-.79 “strong” correlation  \n",
    "o .80-1.0 “very strong” correlation  "
   ]
  },
  {
   "cell_type": "markdown",
   "metadata": {},
   "source": [
    "### A"
   ]
  },
  {
   "cell_type": "markdown",
   "metadata": {},
   "source": [
    "man is to woman as king is to **queen**  \n",
    "water is to ice as liquid is to **solid**  \n",
    "bad is to good as sad is to **happy**  \n",
    "nurse is to hospital as teacher is to **school**  \n",
    "usa is to pizza as japan is to **sushi**  \n",
    "human is to house as dog is to **yard**  \n",
    "grass is to green as sky is to **blue**"
   ]
  },
  {
   "cell_type": "code",
   "execution_count": 18,
   "metadata": {},
   "outputs": [
    {
     "name": "stdout",
     "output_type": "stream",
     "text": [
      "king/queen:  0.5685570894407133\n",
      "liquid/solid:  0.654647394785279\n",
      "sad/happy:  0.4488509304776102\n",
      "teacher/school:  0.5326567952645775\n",
      "japan/sushi:  0.011866340802923168\n",
      "dog/yard:  0.09279718492388062\n",
      "sky/blue:  0.4439698110031242\n"
     ]
    }
   ],
   "source": [
    "queen = newmodel.similarity('king', 'queen')\n",
    "solid = newmodel.similarity('liquid', 'solid')\n",
    "happy = newmodel.similarity('sad', 'happy')\n",
    "school = newmodel.similarity('teacher', 'school')\n",
    "sushi = newmodel.similarity('japan', 'sushi')\n",
    "yard = newmodel.similarity('dog', 'yard')\n",
    "blue = newmodel.similarity('sky', 'blue')\n",
    "\n",
    "print(\"king/queen: \", queen)\n",
    "print(\"liquid/solid: \", solid)\n",
    "print(\"sad/happy: \", happy)\n",
    "print(\"teacher/school: \", school)\n",
    "print(\"japan/sushi: \", sushi)\n",
    "print(\"dog/yard: \", yard)\n",
    "print(\"sky/blue: \", blue)"
   ]
  },
  {
   "cell_type": "markdown",
   "metadata": {},
   "source": [
    "### B"
   ]
  },
  {
   "cell_type": "code",
   "execution_count": 19,
   "metadata": {},
   "outputs": [
    {
     "name": "stdout",
     "output_type": "stream",
     "text": [
      "man is to woman as king is to.. [('girl', 0.5053811073303223)]\n",
      "water is to ice as liquid is to.. [('glaciers', 0.47326594591140747)]\n",
      "bad is to good as sad is to.. [('luck', 0.4046950340270996)]\n",
      "nurse is to hospital as teacher is to.. [('custody', 0.47066730260849)]\n",
      "usa is to pizza as japan is to.. [('strawberry', 0.5357518196105957)]\n",
      "human is to house as dog is to.. [('abuses', 0.427523672580719)]\n",
      "grass is to green as sky is to.. [('vegetable', 0.5439887046813965)]\n"
     ]
    }
   ],
   "source": [
    "king = newmodel.most_similar(positive=['man', 'woman'], negative=['king'], topn=1)\n",
    "liquid = newmodel.most_similar(positive=['water', 'ice'], negative=['liquid'], topn=1)\n",
    "sad = newmodel.most_similar(positive=['bad', 'good'], negative=['sad'], topn=1)\n",
    "teacher = newmodel.most_similar(positive=['nurse', 'hospital'], negative=['teacher'], topn=1)\n",
    "japan = newmodel.most_similar(positive=['usa', 'pizza'], negative=['japan'], topn=1)\n",
    "dog = newmodel.most_similar(positive=['human', 'house'], negative=['dog'], topn=1)\n",
    "sky = newmodel.most_similar(positive=['grass', 'green'], negative=['sky'], topn=1)\n",
    "\n",
    "print(\"man is to woman as king is to..\", king)\n",
    "print(\"water is to ice as liquid is to..\", liquid)\n",
    "print(\"bad is to good as sad is to..\", sad)\n",
    "print(\"nurse is to hospital as teacher is to..\", teacher)\n",
    "print(\"usa is to pizza as japan is to..\", japan)\n",
    "print(\"human is to house as dog is to..\", dog)\n",
    "print(\"grass is to green as sky is to..\", sky)"
   ]
  },
  {
   "cell_type": "markdown",
   "metadata": {},
   "source": [
    "### C"
   ]
  },
  {
   "cell_type": "code",
   "execution_count": 20,
   "metadata": {},
   "outputs": [
    {
     "name": "stdout",
     "output_type": "stream",
     "text": [
      "very weak:  -0.06572114027565584\n"
     ]
    }
   ],
   "source": [
    "from scipy import stats\n",
    "my_scores = [queen, solid, happy, school, sushi, yard, blue]\n",
    "their_scores = [king[0][1], liquid[0][1], sad[0][1], teacher[0][1], japan[0][1], dog[0][1], sky[0][1]]\n",
    "correlation = stats.pearsonr(my_scores, their_scores)\n",
    "print(\"very weak: \", correlation[0])"
   ]
  },
  {
   "cell_type": "markdown",
   "metadata": {},
   "source": [
    "# Task Set 2"
   ]
  },
  {
   "cell_type": "markdown",
   "metadata": {},
   "source": [
    "### Preliminary Stuff  \n",
    "All the setup is in tutorial notebook"
   ]
  }
 ],
 "metadata": {
  "kernelspec": {
   "display_name": "Python 3",
   "language": "python",
   "name": "python3"
  },
  "language_info": {
   "codemirror_mode": {
    "name": "ipython",
    "version": 3
   },
   "file_extension": ".py",
   "mimetype": "text/x-python",
   "name": "python",
   "nbconvert_exporter": "python",
   "pygments_lexer": "ipython3",
   "version": "3.6.8"
  }
 },
 "nbformat": 4,
 "nbformat_minor": 2
}
